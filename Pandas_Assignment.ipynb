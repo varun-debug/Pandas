{
 "cells": [
  {
   "cell_type": "markdown",
   "id": "ad7701fb-b44c-418b-b31a-030c0d2a7161",
   "metadata": {},
   "source": [
    "***\n",
    "<h2 style=\"text-align:center\"> Pandas Assignment</h2>\n",
    "\n",
    "***"
   ]
  },
  {
   "cell_type": "markdown",
   "id": "eb1f854d-e539-4a7d-9574-746a50ff7ab1",
   "metadata": {},
   "source": [
    "1. How do you load a CSV file into a Pandas DataFrame?"
   ]
  },
  {
   "cell_type": "markdown",
   "id": "7172a0d0-7bd1-4a42-b82a-a6f070677527",
   "metadata": {},
   "source": [
    "import pandas as pd <br>\n",
    "DF = pd.read_csv(\"cricket.csv\")"
   ]
  },
  {
   "cell_type": "markdown",
   "id": "9c35dbb3-8895-49e7-b365-324f57ef046e",
   "metadata": {},
   "source": [
    "2. How do you check the data type of a column in a Pandas DataFrame?"
   ]
  },
  {
   "cell_type": "markdown",
   "id": "078c5616-ed4f-449e-a970-323cdf5e0d7f",
   "metadata": {},
   "source": [
    "df.dtypes"
   ]
  },
  {
   "cell_type": "markdown",
   "id": "a996101b-5e1b-44fe-a5c7-e0e6f46fea13",
   "metadata": {},
   "source": [
    "3. How do you select rows from a Pandas DataFrame based on a condition?"
   ]
  },
  {
   "cell_type": "markdown",
   "id": "26beef4e-cddc-43cd-8066-e11c8e729ae5",
   "metadata": {},
   "source": [
    "df.loc[condition]"
   ]
  },
  {
   "cell_type": "markdown",
   "id": "a1095e4a-185b-4b08-bf4c-617bc2fd223c",
   "metadata": {},
   "source": [
    "4. How do you rename columns in a Pandas DataFrame?"
   ]
  },
  {
   "cell_type": "markdown",
   "id": "e9c22c79-837b-4400-8040-093569097754",
   "metadata": {},
   "source": [
    "df.rename(columns={\"Old_Col_name\": \"new_col_name\",......}, inplace=True)"
   ]
  },
  {
   "cell_type": "markdown",
   "id": "3604cfbd-6ece-43fd-90ca-95456a0a8405",
   "metadata": {},
   "source": [
    "5. How do you drop columns in a Pandas DataFrame?"
   ]
  },
  {
   "cell_type": "markdown",
   "id": "f514c50c-82ad-47e3-828f-f3c53f3d5aea",
   "metadata": {},
   "source": [
    "df.drop('column name', axis=1, inplace=true)"
   ]
  },
  {
   "cell_type": "markdown",
   "id": "9739c40b-dad5-4fe6-bcce-de274f7bfc6e",
   "metadata": {},
   "source": [
    "6. How do you find the unique values in a column of a Pandas DataFrame?"
   ]
  },
  {
   "cell_type": "markdown",
   "id": "2194f193-963f-4c1b-aa9c-7800846df311",
   "metadata": {},
   "source": [
    "df['column name'].unique()"
   ]
  },
  {
   "cell_type": "markdown",
   "id": "765889c2-2d9e-40c2-9564-4a15286a9ca7",
   "metadata": {},
   "source": [
    "7.  How do you find the number of missing values in each column of a Pandas DataFrame?"
   ]
  },
  {
   "cell_type": "markdown",
   "id": "01968cd1-1e4b-4791-8c0e-e52b24990cce",
   "metadata": {},
   "source": [
    "df.isnull().sum()"
   ]
  },
  {
   "cell_type": "markdown",
   "id": "52f60e6d-aa24-4151-80b9-6f6d82008e87",
   "metadata": {},
   "source": [
    "8. How do you fill missing values in a Pandas DataFrame with a specific value?"
   ]
  },
  {
   "cell_type": "markdown",
   "id": "a137bed9-0007-4f9a-bd40-63b746495784",
   "metadata": {},
   "source": [
    "import pandas as pd\n",
    "\n",
    "        df = pd.read_csv('data.csv')\n",
    "\n",
    "        newdf = df.fillna(222222)"
   ]
  },
  {
   "cell_type": "markdown",
   "id": "1f5a83ac-284f-4bbb-a350-9e7b163ff5cb",
   "metadata": {},
   "source": [
    "9.  How do you concatenate two Pandas DataFrames?"
   ]
  },
  {
   "cell_type": "markdown",
   "id": "d8b7c01e-328b-4445-b436-dafb92eb0f30",
   "metadata": {},
   "source": [
    " df_concat = [df1, df2]<br>\n",
    "        result = pd.concat(df_concat)"
   ]
  },
  {
   "cell_type": "markdown",
   "id": "4ea3c387-0956-41fc-9999-08a43bf1e2dc",
   "metadata": {},
   "source": [
    "10. How do you merge two Pandas DataFrames on a specific column?"
   ]
  },
  {
   "cell_type": "markdown",
   "id": "80f9c437-060a-4caf-b7c9-4aba0f6027f8",
   "metadata": {},
   "source": [
    "df1.merge(df2[['column1', 'column2', 'column3']])"
   ]
  },
  {
   "cell_type": "markdown",
   "id": "3bddc842-d0f4-4899-9c27-acd7563100d3",
   "metadata": {},
   "source": [
    "11. How do you group data in a Pandas DataFrame by a specific column and apply an aggregation function?"
   ]
  },
  {
   "cell_type": "markdown",
   "id": "a6b3f520-1aa7-4868-a1db-89b37bbc4267",
   "metadata": {},
   "source": [
    "To do grouping use DataFrame.groupby() function. This function returns the DataFrameGroupBy object and use aggregate() function to calculate the sum.<br>\n",
    "\n",
    "#Use DataFrame.group() Function<br>\n",
    "result = df.groupby('Courses')['Fee','Discount'].aggregate('sum')<br>\n",
    "print(result)<br>\n",
    "\n",
    "#Outputs<br>\n",
    "           Fee  Discount\n",
    "Courses \n",
    "\n",
    "Hadoop   26000      1200\n",
    "\n",
    "PySpark    49000      4300\n",
    "\n",
    "Python   &nbsp; 22000      2500\n",
    "\n",
    "Spark  &nbsp; &nbsp;&nbsp; 55000      3000"
   ]
  },
  {
   "cell_type": "markdown",
   "id": "f175c3e7-0124-4e22-b8bc-3002f70f3a68",
   "metadata": {},
   "source": [
    "12. How do you pivot a Pandas DataFrame?"
   ]
  },
  {
   "cell_type": "markdown",
   "id": "4f447206-5ba2-4839-bb47-3ab4e6f498db",
   "metadata": {},
   "source": [
    "he pivot function in pandas is used to reshape the given data frame based on specific columns. Specified columns act as pivots of the data frame. An important thing to note is that the pivot function does not support data aggregation. Instead, multiple columns will return the data frame, becoming multi-indexed.<br>\n",
    "df.pivot(index='  ', cloumn='    ', values='    ')"
   ]
  },
  {
   "cell_type": "markdown",
   "id": "0e734e01-acda-4c46-837c-5c3c14c74943",
   "metadata": {},
   "source": [
    "13. How do you change the data type of a column in a Pandas DataFrame?"
   ]
  },
  {
   "cell_type": "markdown",
   "id": "7887eae9-d95a-48a6-b7b7-0ad4d843fecb",
   "metadata": {},
   "source": [
    "importing pandas as pd<br>\n",
    "import pandas as pd\n",
    " \n",
    "sample dataframe<br>\n",
    "df = pd.DataFrame({\n",
    "    'A': [1, 2, 3, 4, 5],\n",
    "    'B': ['a', 'b', 'c', 'd', 'e'],\n",
    "    'C': [1.1, '1.0', '1.3', 2, 5]})\n",
    " \n",
    "converting all columns to string type<br>\n",
    "df = df.astype(str)\n",
    "print(df.dtypes)\n",
    "---------\n",
    "import pandas as pd\n",
    " \n",
    "data = {\n",
    "  \"name\": [\"Aman\", \"Hardik\", pd.NA],\n",
    "  \"qualified\": [True, False, pd.NA]\n",
    "}\n",
    " \n",
    "df = pd.DataFrame(data)<br>\n",
    " \n",
    "print(\"Original_dtypes:\")<br>\n",
    "print(df.dtypes,\"\\n\")\n",
    " \n",
    "newdf = df.convert_dtypes()<br>\n",
    " \n",
    "print(\"New_dtypes:\")<br>\n",
    "print(newdf.dtypes)"
   ]
  },
  {
   "cell_type": "markdown",
   "id": "7d9cfe8c-eb39-4d8b-b557-1641b50fe50e",
   "metadata": {},
   "source": [
    "14. How do you sort a Pandas DataFrame by a specific column?"
   ]
  },
  {
   "cell_type": "markdown",
   "id": "e1c9403a-a36a-44b6-92ad-0fad40aea655",
   "metadata": {},
   "source": [
    "df.sort_values('column name')"
   ]
  },
  {
   "cell_type": "markdown",
   "id": "aca34b74-ae4f-4bcf-93eb-8870051ebef0",
   "metadata": {},
   "source": [
    "15. How do you create a copy of a Pandas DataFrame?"
   ]
  },
  {
   "cell_type": "markdown",
   "id": "7b6a7778-bf5d-4daa-865a-b5109c414d58",
   "metadata": {},
   "source": [
    "import pandas as pd\n",
    "\n",
    "data = {\n",
    "  \"name\": [\"Sally\", \"Mary\", \"John\"],\n",
    "  \"qualified\": [True, False, False]\n",
    "}\n",
    "\n",
    "df = pd.DataFrame(data)\n",
    "\n",
    "#Make a copy:\n",
    "\n",
    "newdf = df.copy()\n",
    "\n",
    "print(newdf)"
   ]
  },
  {
   "cell_type": "markdown",
   "id": "0eba6429-5e37-4596-ae14-2b24dc1f0203",
   "metadata": {},
   "source": [
    "16. How do you filter rows of a Pandas DataFrame by multiple conditions?"
   ]
  },
  {
   "cell_type": "code",
   "execution_count": 6,
   "id": "2cd016a3-16dd-42ef-bd50-05b78c4d258e",
   "metadata": {},
   "outputs": [
    {
     "data": {
      "text/html": [
       "<div>\n",
       "<style scoped>\n",
       "    .dataframe tbody tr th:only-of-type {\n",
       "        vertical-align: middle;\n",
       "    }\n",
       "\n",
       "    .dataframe tbody tr th {\n",
       "        vertical-align: top;\n",
       "    }\n",
       "\n",
       "    .dataframe thead th {\n",
       "        text-align: right;\n",
       "    }\n",
       "</style>\n",
       "<table border=\"1\" class=\"dataframe\">\n",
       "  <thead>\n",
       "    <tr style=\"text-align: right;\">\n",
       "      <th></th>\n",
       "      <th>Name</th>\n",
       "      <th>Age</th>\n",
       "      <th>Salary</th>\n",
       "      <th>JOB</th>\n",
       "    </tr>\n",
       "  </thead>\n",
       "  <tbody>\n",
       "    <tr>\n",
       "      <th>0</th>\n",
       "      <td>RACHEL</td>\n",
       "      <td>30</td>\n",
       "      <td>100000</td>\n",
       "      <td>DESIGNER</td>\n",
       "    </tr>\n",
       "    <tr>\n",
       "      <th>1</th>\n",
       "      <td>MONICA</td>\n",
       "      <td>35</td>\n",
       "      <td>93000</td>\n",
       "      <td>CHEF</td>\n",
       "    </tr>\n",
       "    <tr>\n",
       "      <th>2</th>\n",
       "      <td>PHOEBE</td>\n",
       "      <td>37</td>\n",
       "      <td>88000</td>\n",
       "      <td>MASUS</td>\n",
       "    </tr>\n",
       "    <tr>\n",
       "      <th>3</th>\n",
       "      <td>ROSS</td>\n",
       "      <td>33</td>\n",
       "      <td>120000</td>\n",
       "      <td>PALENTOLOGY</td>\n",
       "    </tr>\n",
       "    <tr>\n",
       "      <th>4</th>\n",
       "      <td>CHANDLER</td>\n",
       "      <td>34</td>\n",
       "      <td>94000</td>\n",
       "      <td>IT</td>\n",
       "    </tr>\n",
       "    <tr>\n",
       "      <th>5</th>\n",
       "      <td>JOEY</td>\n",
       "      <td>30</td>\n",
       "      <td>95000</td>\n",
       "      <td>ARTIST</td>\n",
       "    </tr>\n",
       "  </tbody>\n",
       "</table>\n",
       "</div>"
      ],
      "text/plain": [
       "         Name  Age  Salary          JOB\n",
       "0    RACHEL     30  100000     DESIGNER\n",
       "1    MONICA     35   93000         CHEF\n",
       "2    PHOEBE     37   88000        MASUS\n",
       "3    ROSS       33  120000  PALENTOLOGY\n",
       "4    CHANDLER   34   94000           IT\n",
       "5    JOEY       30   95000       ARTIST"
      ]
     },
     "metadata": {},
     "output_type": "display_data"
    },
    {
     "data": {
      "text/html": [
       "<div>\n",
       "<style scoped>\n",
       "    .dataframe tbody tr th:only-of-type {\n",
       "        vertical-align: middle;\n",
       "    }\n",
       "\n",
       "    .dataframe tbody tr th {\n",
       "        vertical-align: top;\n",
       "    }\n",
       "\n",
       "    .dataframe thead th {\n",
       "        text-align: right;\n",
       "    }\n",
       "</style>\n",
       "<table border=\"1\" class=\"dataframe\">\n",
       "  <thead>\n",
       "    <tr style=\"text-align: right;\">\n",
       "      <th></th>\n",
       "      <th>Name</th>\n",
       "      <th>JOB</th>\n",
       "    </tr>\n",
       "  </thead>\n",
       "  <tbody>\n",
       "    <tr>\n",
       "      <th>0</th>\n",
       "      <td>RACHEL</td>\n",
       "      <td>DESIGNER</td>\n",
       "    </tr>\n",
       "  </tbody>\n",
       "</table>\n",
       "</div>"
      ],
      "text/plain": [
       "        Name       JOB\n",
       "0   RACHEL    DESIGNER"
      ]
     },
     "metadata": {},
     "output_type": "display_data"
    },
    {
     "data": {
      "text/html": [
       "<div>\n",
       "<style scoped>\n",
       "    .dataframe tbody tr th:only-of-type {\n",
       "        vertical-align: middle;\n",
       "    }\n",
       "\n",
       "    .dataframe tbody tr th {\n",
       "        vertical-align: top;\n",
       "    }\n",
       "\n",
       "    .dataframe thead th {\n",
       "        text-align: right;\n",
       "    }\n",
       "</style>\n",
       "<table border=\"1\" class=\"dataframe\">\n",
       "  <thead>\n",
       "    <tr style=\"text-align: right;\">\n",
       "      <th></th>\n",
       "      <th>Name</th>\n",
       "      <th>Age</th>\n",
       "      <th>Salary</th>\n",
       "      <th>JOB</th>\n",
       "    </tr>\n",
       "  </thead>\n",
       "  <tbody>\n",
       "    <tr>\n",
       "      <th>1</th>\n",
       "      <td>MONICA</td>\n",
       "      <td>35</td>\n",
       "      <td>93000</td>\n",
       "      <td>CHEF</td>\n",
       "    </tr>\n",
       "  </tbody>\n",
       "</table>\n",
       "</div>"
      ],
      "text/plain": [
       "        Name  Age  Salary   JOB\n",
       "1   MONICA     35   93000  CHEF"
      ]
     },
     "metadata": {},
     "output_type": "display_data"
    },
    {
     "data": {
      "text/html": [
       "<div>\n",
       "<style scoped>\n",
       "    .dataframe tbody tr th:only-of-type {\n",
       "        vertical-align: middle;\n",
       "    }\n",
       "\n",
       "    .dataframe tbody tr th {\n",
       "        vertical-align: top;\n",
       "    }\n",
       "\n",
       "    .dataframe thead th {\n",
       "        text-align: right;\n",
       "    }\n",
       "</style>\n",
       "<table border=\"1\" class=\"dataframe\">\n",
       "  <thead>\n",
       "    <tr style=\"text-align: right;\">\n",
       "      <th></th>\n",
       "      <th>Name</th>\n",
       "      <th>Age</th>\n",
       "      <th>Salary</th>\n",
       "      <th>JOB</th>\n",
       "    </tr>\n",
       "  </thead>\n",
       "  <tbody>\n",
       "    <tr>\n",
       "      <th>5</th>\n",
       "      <td>JOEY</td>\n",
       "      <td>30</td>\n",
       "      <td>95000</td>\n",
       "      <td>ARTIST</td>\n",
       "    </tr>\n",
       "  </tbody>\n",
       "</table>\n",
       "</div>"
      ],
      "text/plain": [
       "        Name  Age  Salary     JOB\n",
       "5   JOEY       30   95000  ARTIST"
      ]
     },
     "metadata": {},
     "output_type": "display_data"
    }
   ],
   "source": [
    "import pandas as pd\n",
    " \n",
    "# assign data\n",
    "dataFrame = pd.DataFrame({'Name': [' RACHEL  ', ' MONICA  ', ' PHOEBE  ',\n",
    "                                   '  ROSS    ', 'CHANDLER', ' JOEY    '],\n",
    "                           \n",
    "                          'Age': [30, 35, 37, 33, 34, 30],\n",
    "                           \n",
    "                          'Salary': [100000, 93000, 88000, 120000, 94000, 95000],\n",
    "                           \n",
    "                          'JOB': ['DESIGNER', 'CHEF', 'MASUS', 'PALENTOLOGY',\n",
    "                                  'IT', 'ARTIST']})\n",
    " \n",
    "# display dataframe\n",
    "display(dataFrame)\n",
    "\n",
    "#using loc\n",
    "display(dataFrame.loc[(dataFrame['Salary']>=100000) & (dataFrame['Age']< 40) & (dataFrame['JOB'].str.startswith('D')),\n",
    "                    ['Name','JOB']])\n",
    "\n",
    "#using query\n",
    "display(dataFrame.query('Salary  <= 100000 & Age < 40 & JOB.str.startswith(\"C\").values'))\n",
    "\n",
    "\n",
    "#using eval conditions\n",
    "display(dataFrame[dataFrame.eval(\"Salary <=100000 & (Age <40) & JOB.str.startswith('A').values\")])\n"
   ]
  },
  {
   "cell_type": "markdown",
   "id": "ba620457-173c-4eaf-ba6f-a96aff3f893b",
   "metadata": {},
   "source": [
    "17. How do you calculate the mean of a column in a Pandas DataFrame?"
   ]
  },
  {
   "cell_type": "markdown",
   "id": "35557da1-1407-486b-876e-a91ab2285060",
   "metadata": {},
   "source": [
    "#Using DataFrame.mean() to get entire column mean<br>\n",
    "\n",
    "df2 = df.mean()\n",
    "\n",
    "print(df2)\n",
    "\n",
    "#Using multiple columns mean using DataFrame.mean()\n",
    "\n",
    "df2 = df[[\"Fee\",\"Discount\"]].mean()\n",
    "\n",
    "print(df2)"
   ]
  },
  {
   "cell_type": "markdown",
   "id": "7a8d33ba-4f01-460b-9878-45d7b30cbb06",
   "metadata": {},
   "source": [
    "18. How do you calculate the standard deviation of a column in a Pandas DataFrame?"
   ]
  },
  {
   "cell_type": "markdown",
   "id": "9320cca2-ca4d-438b-baa3-c3cdd1082002",
   "metadata": {},
   "source": [
    "df.std()"
   ]
  },
  {
   "cell_type": "markdown",
   "id": "05627fc0-8a13-45f7-9d27-045dffeb3fbb",
   "metadata": {},
   "source": [
    "19. How do you calculate the correlation between two columns in a Pandas DataFrame?"
   ]
  },
  {
   "cell_type": "markdown",
   "id": "9a31370b-c0dd-4abf-8bb7-0b1877b2891f",
   "metadata": {},
   "source": [
    "#Correlation between two columns of DataFrame.\n",
    "\n",
    "corr=df['Fee'].corr(df['Discount'])\n",
    "\n",
    "print(corr)"
   ]
  },
  {
   "cell_type": "markdown",
   "id": "732c8506-b499-43c3-acf9-7832501fc400",
   "metadata": {},
   "source": [
    "20. How do you select specific columns in a DataFrame using their labels?"
   ]
  },
  {
   "cell_type": "markdown",
   "id": "b2dc0ceb-3bd3-4191-82b7-e77febf2c681",
   "metadata": {},
   "source": [
    "Method 1: Select One Column by Name\n",
    "\n",
    "df.loc[:, 'column1']\n",
    "\n",
    "Method 2: Select Multiple Columns by Name\n",
    "\n",
    "df.loc[:, ['column1', 'column3', 'column4']]\n",
    "\n",
    "Method 3: Select Columns in Range by Name\n",
    "\n",
    "df.loc[:, 'column2':'column4'] "
   ]
  },
  {
   "cell_type": "markdown",
   "id": "45a25242-de24-4771-9e52-d86e4dd7726a",
   "metadata": {},
   "source": [
    "21. How do you select specific rows in a DataFrame using their indexes?"
   ]
  },
  {
   "cell_type": "markdown",
   "id": "c8512e75-2555-45e7-a094-385ed75ced73",
   "metadata": {},
   "source": [
    "ou can select a single row from pandas DataFrame by integer index using df.iloc[n]. Replace n with a position you wanted to select.<br>\n",
    "\n",
    "Sometimes you may need to get multiple rows from DataFrame by specifies indexes as a list. Certainly, you can do this. For example df.iloc[[2,3,6]] selects rows 3, 4 and 7 as index starts from zero.\n",
    "\n",
    "\n"
   ]
  },
  {
   "cell_type": "markdown",
   "id": "8c7599a1-947f-4fe2-873f-1a95c467b52b",
   "metadata": {},
   "source": [
    "22. How do you sort a DataFrame by a specific column"
   ]
  },
  {
   "cell_type": "code",
   "execution_count": 7,
   "id": "e107e425-bb58-4042-9e00-ff4432e1d6df",
   "metadata": {},
   "outputs": [
    {
     "name": "stdout",
     "output_type": "stream",
     "text": [
      "   name  physics  chemistry  algebra\n",
      "0  Somu       68         84       78\n",
      "2  Amol       77         73       82\n",
      "3  Lini       78         69       87\n",
      "1  Kiku       74         56       88\n"
     ]
    }
   ],
   "source": [
    "import pandas as pd\n",
    "\n",
    "data = {'name': ['Somu', 'Kiku', 'Amol', 'Lini'],\n",
    "\t'physics': [68, 74, 77, 78],\n",
    "\t'chemistry': [84, 56, 73, 69],\n",
    "\t'algebra': [78, 88, 82, 87]}\n",
    "\n",
    "\t\n",
    "#create dataframe\n",
    "df_marks = pd.DataFrame(data)\n",
    "\n",
    "#sort dataframe\n",
    "sorted_df = df_marks.sort_values(by='algebra')\n",
    "print(sorted_df)"
   ]
  },
  {
   "cell_type": "markdown",
   "id": "50a84456-e5d7-4626-b5ca-e3e37401d3a1",
   "metadata": {},
   "source": [
    "23. How do you create a new column in a DataFrame based on the values of another column?"
   ]
  },
  {
   "cell_type": "markdown",
   "id": "3296af33-097f-4af3-83e7-161975ba84c4",
   "metadata": {},
   "source": [
    " You can add/append a new column to the DataFrame based on the values of another column using df.assign(), df.apply(), and, np.where() functions and return a new Dataframe after adding a new column."
   ]
  },
  {
   "cell_type": "markdown",
   "id": "b79e92a1-2b7f-4638-94b4-e361ef01c617",
   "metadata": {},
   "source": [
    "#Below are the quick examples<br>\n",
    "\n",
    "<li>Example 1: Add Column using arithmetic operation<br>\n",
    "#based on existing column <br>\n",
    "\n",
    "df[\"Final_Fee\"] = df[\"Fee\"] - df[\"Discount\"]\n",
    "\n",
    "<li>Example 2: Add New Column using assign()\n",
    "\n",
    "df = pd.DataFrame(technologies)\n",
    "\n",
    "df1 = df.assign(Discount_Percent=lambda x: x.Fee * x.Discount / 100)\n",
    "\n",
    "<li>Example 3: Add column using np.where()\n",
    "\n",
    "df['Discount_rating'] = np.where(df['Discount'] > 2000, 'Good', 'Bad')\n",
    "\n",
    "<li>Example 4: Add column using apply()\n",
    "\n",
    "df['Final_fee'] = df.apply(lambda x: x['Fee'] - x['Discount'], axis=1)\n",
    "\n",
    "<li>Example 5: Add column to DataFrame using loc[]\n",
    "\n",
    "df['Without_discount'] = df.loc[:,['Fee', 'Discount']].sum(axis=1)"
   ]
  },
  {
   "cell_type": "markdown",
   "id": "8cfa1b05-dd94-4341-af4e-33c8d83e8dd5",
   "metadata": {},
   "source": [
    "24. How do you remove duplicates from a DataFrame?"
   ]
  },
  {
   "cell_type": "code",
   "execution_count": 8,
   "id": "85434eac-380c-4421-ae1a-aa26db94b941",
   "metadata": {},
   "outputs": [
    {
     "name": "stdout",
     "output_type": "stream",
     "text": [
      "    name  age  qualified\n",
      "0  Sally   50       True\n",
      "1   Mary   40      False\n",
      "2   John   30      False\n"
     ]
    }
   ],
   "source": [
    "import pandas as pd\n",
    "\n",
    "data = {\n",
    "  \"name\": [\"Sally\", \"Mary\", \"John\", \"Mary\"],\n",
    "  \"age\": [50, 40, 30, 40],\n",
    "  \"qualified\": [True, False, False, False]\n",
    "}\n",
    "\n",
    "df = pd.DataFrame(data)\n",
    "\n",
    "newdf = df.drop_duplicates()\n",
    "\n",
    "print(newdf)"
   ]
  },
  {
   "cell_type": "markdown",
   "id": "66259a34-1656-4563-bc73-c05b67ad2249",
   "metadata": {},
   "source": [
    "25. What is the difference between .loc and .iloc in Pandas?"
   ]
  },
  {
   "cell_type": "markdown",
   "id": "f7235a55-1259-4f11-b701-7942fad2d5e6",
   "metadata": {},
   "source": [
    "The main difference between pandas loc[] vs iloc[] \n",
    "\n",
    "        is loc[] gets DataFrame rows & columns by labels/names and \n",
    "        \n",
    "        iloc[] gets by integer Index/position."
   ]
  },
  {
   "cell_type": "code",
   "execution_count": null,
   "id": "ea6c3549-4dd0-47b3-bf8c-d922e1a53e54",
   "metadata": {},
   "outputs": [],
   "source": []
  }
 ],
 "metadata": {
  "kernelspec": {
   "display_name": "Python 3 (ipykernel)",
   "language": "python",
   "name": "python3"
  },
  "language_info": {
   "codemirror_mode": {
    "name": "ipython",
    "version": 3
   },
   "file_extension": ".py",
   "mimetype": "text/x-python",
   "name": "python",
   "nbconvert_exporter": "python",
   "pygments_lexer": "ipython3",
   "version": "3.10.6"
  }
 },
 "nbformat": 4,
 "nbformat_minor": 5
}
